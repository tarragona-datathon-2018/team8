{
  "nbformat": 4,
  "nbformat_minor": 0,
  "metadata": {
    "colab": {
      "name": "CAP outcome - pneumonia.ipynb",
      "version": "0.3.2",
      "provenance": []
    },
    "kernelspec": {
      "name": "python3",
      "display_name": "Python 3"
    }
  },
  "cells": [
    {
      "metadata": {
        "id": "D9F20RZbg9iI",
        "colab_type": "text"
      },
      "cell_type": "markdown",
      "source": [
        "# Team 8 - CAP outcome"
      ]
    },
    {
      "metadata": {
        "id": "XQ8HPtzAqAbb",
        "colab_type": "text"
      },
      "cell_type": "markdown",
      "source": [
        "# Libraries\n",
        "\n",
        "\n"
      ]
    },
    {
      "metadata": {
        "id": "bjJxCy2N7Yml",
        "colab_type": "code",
        "colab": {}
      },
      "cell_type": "code",
      "source": [
        "# Import libraries\n",
        "import numpy as np\n",
        "import os\n",
        "import pandas as pd\n",
        "import matplotlib.pyplot as plt\n",
        "import matplotlib.patches as patches\n",
        "import matplotlib.path as path\n",
        "import tensorflow as tf\n",
        "\n",
        "# Below imports are used to print out pretty pandas dataframes\n",
        "from IPython.display import display, HTML\n",
        "\n",
        "# Imports for accessing Datathon data using Google BigQuery.\n",
        "from google.colab import auth\n",
        "from google.cloud import bigquery"
      ],
      "execution_count": 0,
      "outputs": []
    },
    {
      "metadata": {
        "id": "aQJWPek3LDL8",
        "colab_type": "text"
      },
      "cell_type": "markdown",
      "source": [
        "# Access to Big Query"
      ]
    },
    {
      "metadata": {
        "id": "rUr1NHIr7fTt",
        "colab_type": "code",
        "colab": {}
      },
      "cell_type": "code",
      "source": [
        "auth.authenticate_user()"
      ],
      "execution_count": 0,
      "outputs": []
    },
    {
      "metadata": {
        "id": "aNUZkDZz7ifV",
        "colab_type": "code",
        "colab": {}
      },
      "cell_type": "code",
      "source": [
        "project_id='datathon-tarragona-2018'\n",
        "os.environ[\"GOOGLE_CLOUD_PROJECT\"]=project_id"
      ],
      "execution_count": 0,
      "outputs": []
    },
    {
      "metadata": {
        "id": "Y_MwYN1Q7o6R",
        "colab_type": "code",
        "colab": {}
      },
      "cell_type": "code",
      "source": [
        "# Read data from BigQuery into pandas dataframes.\n",
        "def run_query(query):\n",
        "  return pd.io.gbq.read_gbq(query, project_id=project_id, verbose=False, configuration={'query':{'useLegacySql': False}})"
      ],
      "execution_count": 0,
      "outputs": []
    },
    {
      "metadata": {
        "id": "d5F9MWmviyBr",
        "colab_type": "text"
      },
      "cell_type": "markdown",
      "source": [
        "# Access to Google Drive"
      ]
    },
    {
      "metadata": {
        "id": "_bJohODaixeY",
        "colab_type": "code",
        "colab": {}
      },
      "cell_type": "code",
      "source": [
        "# Check is Link to Drive is OK\n",
        "google = !if [ -d 'GDrive/' ]; then echo \"1\" ; else echo \"0\"; fi\n",
        "if (google[0] is '0' ):\n",
        "  from google.colab import drive\n",
        "  drive.mount('/content/GDrive/')\n",
        "!if [ -d 'GDrive/' ]; then echo \"Connection to Google drive successful\" ; else echo \"Error to connect to Google drive\"; fi"
      ],
      "execution_count": 0,
      "outputs": []
    },
    {
      "metadata": {
        "id": "C5MpSuZXLL5n",
        "colab_type": "text"
      },
      "cell_type": "markdown",
      "source": [
        "#Database Overview"
      ]
    },
    {
      "metadata": {
        "id": "U3QtfrGm7aAm",
        "colab_type": "code",
        "colab": {}
      },
      "cell_type": "code",
      "source": [
        "# Total_unique_patients\n",
        "run_query(''' SELECT COUNT(ROW_ID) AS Total_unique_patients FROM `physionet-data.mimiciii_clinical.patients`  ''')"
      ],
      "execution_count": 0,
      "outputs": []
    },
    {
      "metadata": {
        "id": "L7_m1LzPRTBl",
        "colab_type": "code",
        "colab": {}
      },
      "cell_type": "code",
      "source": [
        "# Total admissions\n",
        "run_query(''' SELECT COUNT(HADM_ID) AS Total_admissions FROM `physionet-data.mimiciii_clinical.admissions`  ''')"
      ],
      "execution_count": 0,
      "outputs": []
    },
    {
      "metadata": {
        "id": "oSe2-F4pG7Xg",
        "colab_type": "code",
        "colab": {}
      },
      "cell_type": "code",
      "source": [
        "df = run_query('''\n",
        "\n",
        "  SELECT  SUBJECT_ID, ICD9_CODE, COUNT(*)  \n",
        "    FROM `physionet-data.mimiciii_clinical.diagnoses_icd` \n",
        "    WHERE (SEQ_NUM BETWEEN 1 AND 2) AND (REGEXP_CONTAINS(ICD9_CODE, \"^48[0-3]\")) \n",
        "    GROUP BY SUBJECT_ID, ICD9_CODE\n",
        "  \n",
        "''')"
      ],
      "execution_count": 0,
      "outputs": []
    },
    {
      "metadata": {
        "id": "tWM31TjOPbSZ",
        "colab_type": "code",
        "colab": {}
      },
      "cell_type": "code",
      "source": [
        "# Total_unique_patients\n",
        "run_query(''' SELECT COUNT(ROW_ID) AS Total_unique_patients FROM `physionet-data.mimiciii_clinical.patients`  ''')"
      ],
      "execution_count": 0,
      "outputs": []
    },
    {
      "metadata": {
        "id": "ba5a8eF3aMI_",
        "colab_type": "code",
        "colab": {}
      },
      "cell_type": "code",
      "source": [
        "#### Patients with pneumonia and age >17 Primary 480.0 - 483.99\n",
        "\n",
        "pneu1 = run_query('''\n",
        "\n",
        "WITH edad AS (\n",
        "\n",
        "SELECT adm.HADM_ID , pat.GENDER, DATE_DIFF(DATE(adm.ADMITTIME), DATE(pat.dob), YEAR) AS age, pat.SUBJECT_ID\n",
        "FROM `physionet-data.mimiciii_clinical.patients` AS pat INNER JOIN `physionet-data.mimiciii_clinical.admissions` AS adm \n",
        "ON pat.SUBJECT_ID = adm.SUBJECT_ID \n",
        "),\n",
        "pneumonia AS (\n",
        "SELECT *\n",
        "FROM edad \n",
        "GROUP BY HADM_ID, GENDER, age, SUBJECT_ID\n",
        "HAVING ( age > 17 )\n",
        ")\n",
        "SELECT diag.HADM_ID, diag.SUBJECT_ID, pneumonia.age, pneumonia.gender, diag.ICD9_CODE, diag.SEQ_NUM\n",
        "  FROM `physionet-data.mimiciii_clinical.diagnoses_icd` AS diag \n",
        "  INNER JOIN pneumonia  \n",
        "  ON diag.HADM_ID = pneumonia.HADM_ID\n",
        "  WHERE (SEQ_NUM = 1) AND (REGEXP_CONTAINS(ICD9_CODE, \"^48[0123567]\")) \n",
        "  GROUP BY diag.HADM_ID, diag.SUBJECT_ID, pneumonia.age, pneumonia.gender, diag.ICD9_CODE, diag.SEQ_NUM  \n",
        "\n",
        "''')"
      ],
      "execution_count": 0,
      "outputs": []
    },
    {
      "metadata": {
        "id": "YV0c7byNu2Bl",
        "colab_type": "code",
        "colab": {}
      },
      "cell_type": "code",
      "source": [
        "pneu1.shape\n",
        "# Total 1135 patients"
      ],
      "execution_count": 0,
      "outputs": []
    },
    {
      "metadata": {
        "id": "qusY76Yyc9W2",
        "colab_type": "code",
        "colab": {}
      },
      "cell_type": "code",
      "source": [
        "#### Patients with resp fail or sepsis with age >17 Primary 51881 - 038  Secondary 480.0 - 483.99\n",
        "\n",
        "resp_fail_sepsis = run_query('''\n",
        "WITH\n",
        "  pneunm_2 AS(\n",
        "  SELECT\n",
        "    diag.HADM_ID,\n",
        "    diag.SUBJECT_ID,\n",
        "    diag.ICD9_CODE,\n",
        "    diag.SEQ_NUM\n",
        "  FROM\n",
        "    `physionet-data.mimiciii_clinical.diagnoses_icd` AS diag\n",
        "  WHERE\n",
        "    SEQ_NUM = 2\n",
        "    AND REGEXP_CONTAINS(ICD9_CODE, \"^48[0123567]\") ),\n",
        "  respfail_sepsis AS (\n",
        "  SELECT\n",
        "    diag.HADM_ID,\n",
        "    diag.SUBJECT_ID,\n",
        "    diag.ICD9_CODE,\n",
        "    diag.SEQ_NUM\n",
        "  FROM\n",
        "    `physionet-data.mimiciii_clinical.diagnoses_icd` AS diag\n",
        "  WHERE\n",
        "    SEQ_NUM = 1\n",
        "    AND (REGEXP_CONTAINS(ICD9_CODE, \"^038\")\n",
        "      OR REGEXP_CONTAINS(ICD9_CODE, \"^51881\") ) )\n",
        "SELECT\n",
        "  pneunm_2.SUBJECT_ID,\n",
        "    pneunm_2.HADM_ID,\n",
        "  pneunm_2.ICD9_CODE AS ICD_pneunm_2,\n",
        "  pneunm_2.SEQ_NUM AS SEQ_pneunm_2,\n",
        "      respfail_sepsis.ICD9_CODE AS ICD_respfail_sepsis,\n",
        "  respfail_sepsis.SEQ_NUM AS SEQ_respfail_sepsis\n",
        "FROM\n",
        "  pneunm_2 INNER JOIN respfail_sepsis\n",
        "  ON respfail_sepsis.HADM_ID = pneunm_2.HADM_ID\n",
        "  ORDER BY HADM_ID \n",
        "  \n",
        "  ''')"
      ],
      "execution_count": 0,
      "outputs": []
    },
    {
      "metadata": {
        "id": "t3KEEBCnSgfU",
        "colab_type": "code",
        "colab": {}
      },
      "cell_type": "code",
      "source": [
        "resp_fail_sepsis.shape\n",
        "# Total 614 patients with Respiratory Fail or Sepsis with age >17 Primary 51881 - 038  Secondary 480.0 - 483.99"
      ],
      "execution_count": 0,
      "outputs": []
    },
    {
      "metadata": {
        "id": "_fM5EB5gSq1Y",
        "colab_type": "code",
        "colab": {}
      },
      "cell_type": "code",
      "source": [
        "pneu1['HADM_ID'].head()"
      ],
      "execution_count": 0,
      "outputs": []
    },
    {
      "metadata": {
        "id": "b6vQ19r6S0y9",
        "colab_type": "code",
        "colab": {}
      },
      "cell_type": "code",
      "source": [
        "resp_fail_sepsis['HADM_ID'].head()"
      ],
      "execution_count": 0,
      "outputs": []
    },
    {
      "metadata": {
        "id": "C_qIl2zpTNPH",
        "colab_type": "code",
        "colab": {}
      },
      "cell_type": "code",
      "source": [
        "df2 = pd.concat([pneu1['HADM_ID'] , resp_fail_sepsis['HADM_ID']],  ignore_index=True)"
      ],
      "execution_count": 0,
      "outputs": []
    },
    {
      "metadata": {
        "id": "IKmIyqJAToyu",
        "colab_type": "code",
        "colab": {}
      },
      "cell_type": "code",
      "source": [
        "df2.shape"
      ],
      "execution_count": 0,
      "outputs": []
    },
    {
      "metadata": {
        "id": "PDsWUVd8UAfE",
        "colab_type": "code",
        "colab": {}
      },
      "cell_type": "code",
      "source": [
        "df2.head()"
      ],
      "execution_count": 0,
      "outputs": []
    },
    {
      "metadata": {
        "id": "CoqrhzEWUEPz",
        "colab_type": "code",
        "colab": {}
      },
      "cell_type": "code",
      "source": [
        "# transfor to list\n",
        "a= df2.iloc[1:].tolist()    "
      ],
      "execution_count": 0,
      "outputs": []
    },
    {
      "metadata": {
        "id": "pfwA3i_y2OWN",
        "colab_type": "text"
      },
      "cell_type": "markdown",
      "source": [
        "## Access to the INPUTEVENTS table which includes medication to identify Antibiotics"
      ]
    },
    {
      "metadata": {
        "id": "ThCPxj35Un4F",
        "colab_type": "code",
        "colab": {}
      },
      "cell_type": "code",
      "source": [
        "for patient_HADM in a:\n",
        "  \n",
        "  query = \" SELECT HADM_ID , SUBJECT_ID , ITEMID, STARTTIME, AMOUNT, AMOUNTUOM, PATIENTWEIGHT, ORDERCATEGORYNAME  FROM `physionet-data.mimiciii_clinical.inputevents_mv` WHERE HADM_ID = \"\n",
        "  query += str(patient_HADM)\n",
        "    \n",
        "  dff = run_query( query )\n",
        "  try:\n",
        "    df7 = pd.concat([df7,dff])\n",
        "  except:\n",
        "    df7 = dff\n",
        "  \n",
        " "
      ],
      "execution_count": 0,
      "outputs": []
    },
    {
      "metadata": {
        "id": "7cO1CZl3d88C",
        "colab_type": "code",
        "colab": {}
      },
      "cell_type": "code",
      "source": [
        "df7.to_csv(\"inputevents_mv.csv\", sep=',', encoding = 'iso-8859-1')\n",
        "!mv inputevents_mv.csv GDrive/My\\ Drive/DatathonTGN"
      ],
      "execution_count": 0,
      "outputs": []
    },
    {
      "metadata": {
        "id": "Un26V0pHRjhd",
        "colab_type": "text"
      },
      "cell_type": "markdown",
      "source": [
        "## Access to the CHARTEVENTS table to identify gender, "
      ]
    },
    {
      "metadata": {
        "id": "Oq9KEsCkZNDa",
        "colab_type": "code",
        "colab": {}
      },
      "cell_type": "code",
      "source": [
        "for patient_HADM in a:\n",
        "  \n",
        "  query = \" SELECT SUBJECT_ID , HADM_ID , ITEMID , CHARTTIME , VALUENUM , VALUEUOM  FROM `physionet-data.mimiciii_clinical.chartevents` WHERE HADM_ID = \"\n",
        "  query += str(patient_HADM)\n",
        "  \n",
        "  dff = run_query( query )\n",
        "  try:\n",
        "    df8 = pd.concat([df8,dff])\n",
        "  except:\n",
        "    df8 = dff\n",
        "  "
      ],
      "execution_count": 0,
      "outputs": []
    },
    {
      "metadata": {
        "id": "Y7FGK2B9ccfH",
        "colab_type": "code",
        "colab": {}
      },
      "cell_type": "code",
      "source": [
        "df8.to_csv(\"chartevents.csv\", sep=',', encoding = 'iso-8859-1')\n",
        "!mv chartevents.csv GDrive/My\\ Drive/DatathonTGN"
      ],
      "execution_count": 0,
      "outputs": []
    },
    {
      "metadata": {
        "id": "CuOGYSiDR3nn",
        "colab_type": "text"
      },
      "cell_type": "markdown",
      "source": [
        " ## Access to PROCEDUREEVENTS_MV table to filter medical procedures"
      ]
    },
    {
      "metadata": {
        "id": "kGiiLNyAchWJ",
        "colab_type": "code",
        "colab": {}
      },
      "cell_type": "code",
      "source": [
        "for patient_HADM in a:\n",
        "  \n",
        "  query = \" SELECT SUBJECT_ID , HADM_ID , STARTTIME , VALUE , VALUEUOM  FROM `physionet-data.mimiciii_clinical.procedureevents_mv`  WHERE HADM_ID = \"\n",
        "  query += str(patient_HADM)\n",
        "  \n",
        "  dff = run_query( query )\n",
        "  try:\n",
        "    df9 = pd.concat([df9,dff])\n",
        "  except:\n",
        "    df9 = dff"
      ],
      "execution_count": 0,
      "outputs": []
    },
    {
      "metadata": {
        "id": "qUovGVO_lnp5",
        "colab_type": "code",
        "colab": {}
      },
      "cell_type": "code",
      "source": [
        "df9.to_csv(\"procedureevents.csv\", sep=',', encoding = 'iso-8859-1')\n",
        "!mv procedureevents.csv GDrive/My\\ Drive/DatathonTGN"
      ],
      "execution_count": 0,
      "outputs": []
    },
    {
      "metadata": {
        "id": "IWv4uFJMSgx0",
        "colab_type": "text"
      },
      "cell_type": "markdown",
      "source": [
        "## Access to the DATETIMEEVENTS table to access data ICU admission date, Date of Birth"
      ]
    },
    {
      "metadata": {
        "id": "bDWM4PecnBzZ",
        "colab_type": "code",
        "colab": {}
      },
      "cell_type": "code",
      "source": [
        "for patient_HADM in a:\n",
        "  \n",
        "  query = \" SELECT SUBJECT_ID, HADM_ID, ITEMID, CHARTTIME, VALUE, VALUEUOM FROM `physionet-data.mimiciii_clinical.datetimeevents`  WHERE HADM_ID = \"\n",
        "  query += str(patient_HADM)\n",
        "  \n",
        "  dff = run_query( query )\n",
        "  try:\n",
        "    df10 = pd.concat([df10,dff])\n",
        "  except:\n",
        "    df10 = dff"
      ],
      "execution_count": 0,
      "outputs": []
    },
    {
      "metadata": {
        "id": "wFurut5QnCEz",
        "colab_type": "code",
        "colab": {}
      },
      "cell_type": "code",
      "source": [
        "df10.to_csv(\"datetimeevents.csv\", sep=',', encoding = 'iso-8859-1')\n",
        "!mv datetimeevents.csv GDrive/My\\ Drive/DatathonTGN"
      ],
      "execution_count": 0,
      "outputs": []
    },
    {
      "metadata": {
        "id": "NvbcIhRDTvP9",
        "colab_type": "text"
      },
      "cell_type": "markdown",
      "source": [
        "## Access to the ADMISSIONS table to identify if patient died within 28 days\n"
      ]
    },
    {
      "metadata": {
        "id": "Ai4C3gyWIA_F",
        "colab_type": "code",
        "colab": {}
      },
      "cell_type": "code",
      "source": [
        "for patient_HADM in a:\n",
        "  \n",
        "  query = \" SELECT SUBJECT_ID, HADM_ID, ADMITTIME, DISCHTIME, DEATHTIME FROM `physionet-data.mimiciii_clinical.admissions` WHERE HADM_ID = \"\n",
        "  query += str(patient_HADM)\n",
        "  \n",
        "  dff = run_query( query )\n",
        "  try:\n",
        "    df11 = pd.concat([df11,dff])\n",
        "  except:\n",
        "    df11 = dff"
      ],
      "execution_count": 0,
      "outputs": []
    },
    {
      "metadata": {
        "id": "8U16McVPICaW",
        "colab_type": "code",
        "colab": {}
      },
      "cell_type": "code",
      "source": [
        "df11.to_csv(\"admissions.csv\", sep=',', encoding = 'iso-8859-1')\n",
        "!mv admissions.csv GDrive/My\\ Drive/DatathonTGN"
      ],
      "execution_count": 0,
      "outputs": []
    },
    {
      "metadata": {
        "id": "3CswzdN6UQ3v",
        "colab_type": "text"
      },
      "cell_type": "markdown",
      "source": [
        "# Access to SOFA table to know the severity of illness"
      ]
    },
    {
      "metadata": {
        "id": "6gJLo45Tv0Zi",
        "colab_type": "code",
        "colab": {}
      },
      "cell_type": "code",
      "source": [
        "for patient_HADM in a:\n",
        "\n",
        "  query = \" SELECT subject_id, hadm_id, icustay_id, SOFA FROM `physionet-data.mimiciii_derived.sofa` WHERE HADM_ID = \"\n",
        "\n",
        "  query += str(patient_HADM)\n",
        "  \n",
        "  dff = run_query( query )\n",
        "  try:\n",
        "    df13 = pd.concat([df13,dff])\n",
        "  except:\n",
        "    df13 = dff"
      ],
      "execution_count": 0,
      "outputs": []
    },
    {
      "metadata": {
        "id": "UJevXmiIv1LD",
        "colab_type": "code",
        "colab": {}
      },
      "cell_type": "code",
      "source": [
        "df13.to_csv(\"sofa.csv\", sep=',', encoding = 'iso-8859-1')\n",
        "!mv sofa.csv GDrive/My\\ Drive/DatathonTGN"
      ],
      "execution_count": 0,
      "outputs": []
    },
    {
      "metadata": {
        "id": "X9uWabyUUmVF",
        "colab_type": "text"
      },
      "cell_type": "markdown",
      "source": [
        "# Access to ICUSTAYS table to know the LOS (lenght of stay)"
      ]
    },
    {
      "metadata": {
        "id": "T1U5L-OjJC5-",
        "colab_type": "code",
        "colab": {}
      },
      "cell_type": "code",
      "source": [
        "for patient_HADM in a:\n",
        "\n",
        "  query = \" SELECT SUBJECT_ID, HADM_ID, INTIME, OUTTIME, LOS FROM `physionet-data.mimiciii_clinical.icustays` WHERE HADM_ID = \"\n",
        "  query += str(patient_HADM)\n",
        "  \n",
        "  dff = run_query( query )\n",
        "  try:\n",
        "    df14 = pd.concat([df14,dff])\n",
        "  except:\n",
        "    df14 = dff"
      ],
      "execution_count": 0,
      "outputs": []
    },
    {
      "metadata": {
        "id": "TTts1SvtQ3UD",
        "colab_type": "code",
        "colab": {}
      },
      "cell_type": "code",
      "source": [
        "df14.to_csv(\"icustays.csv\", sep=',', encoding = 'iso-8859-1')\n",
        "!mv icustays.csv GDrive/My\\ Drive/DatathonTGN"
      ],
      "execution_count": 0,
      "outputs": []
    },
    {
      "metadata": {
        "id": "-FABoAn5VmmS",
        "colab_type": "text"
      },
      "cell_type": "markdown",
      "source": [
        "# Others"
      ]
    },
    {
      "metadata": {
        "id": "85pvtQ7QQ4DW",
        "colab_type": "code",
        "colab": {}
      },
      "cell_type": "code",
      "source": [
        "for patient_HADM in a:\n",
        "  \n",
        "  query = \" SELECT SUBJECT_ID , HADM_ID , ITEMID , CHARTTIME , VALUENUM , VALUEUOM  FROM `physionet-data.mimiciii_clinical.chartevents` WHERE HADM_ID = \"\n",
        "  query += str(patient_HADM)\n",
        "  query += \"AND ITEMID = 226228\"\n",
        "  \n",
        "  dff = run_query( query )\n",
        "  try:\n",
        "    df15 = pd.concat([df15,dff])\n",
        "  except:\n",
        "    df15 = dff"
      ],
      "execution_count": 0,
      "outputs": []
    },
    {
      "metadata": {
        "id": "OmYm2eFyRHys",
        "colab_type": "code",
        "colab": {}
      },
      "cell_type": "code",
      "source": [
        "df15.to_csv(\"gender.csv\", sep=',', encoding = 'iso-8859-1')\n",
        "!mv gender.csv GDrive/My\\ Drive/DatathonTGN"
      ],
      "execution_count": 0,
      "outputs": []
    }
  ]
}